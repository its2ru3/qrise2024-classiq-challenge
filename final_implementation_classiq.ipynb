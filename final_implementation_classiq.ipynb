{
  "nbformat": 4,
  "nbformat_minor": 0,
  "metadata": {
    "colab": {
      "provenance": []
    },
    "kernelspec": {
      "name": "python3",
      "display_name": "Python 3"
    },
    "language_info": {
      "name": "python"
    }
  },
  "cells": [
    {
      "cell_type": "code",
      "execution_count": null,
      "metadata": {
        "id": "K-DMSQZcX5sU"
      },
      "outputs": [],
      "source": [
        "%%capture\n",
        "!pip install -U classiq"
      ]
    },
    {
      "cell_type": "code",
      "source": [
        "import classiq\n",
        "classiq.authenticate()"
      ],
      "metadata": {
        "id": "OntQ4afLX99n"
      },
      "execution_count": null,
      "outputs": []
    },
    {
      "cell_type": "code",
      "source": [
        "from classiq import *"
      ],
      "metadata": {
        "id": "R_Cl83-cYCHw"
      },
      "execution_count": null,
      "outputs": []
    },
    {
      "cell_type": "code",
      "source": [
        "import itertools\n",
        "import math, random, inspect\n",
        "from itertools import product\n",
        "from typing import List, cast\n",
        "\n",
        "import numpy as np\n",
        "from numpy import kron, linalg as LA\n",
        "\n",
        "# from scipy import linalg"
      ],
      "metadata": {
        "id": "Wui3vrceFv9C"
      },
      "execution_count": null,
      "outputs": []
    },
    {
      "cell_type": "code",
      "source": [
        "# To print matrix row in one line\n",
        "np.set_printoptions(linewidth=None)"
      ],
      "metadata": {
        "id": "WFXdjmyvOB9n"
      },
      "execution_count": null,
      "outputs": []
    },
    {
      "cell_type": "markdown",
      "source": [
        "### Initial Matrices Preparation"
      ],
      "metadata": {
        "id": "iJR61CiMc5QO"
      }
    },
    {
      "cell_type": "code",
      "source": [
        "# Defining all variables\n",
        "num = 2\n",
        "N = 2**num\n",
        "d = 2\n",
        "k_max = 2\n",
        "# as the gate counts would increase with t, so we need to define it before creating the circuit\n",
        "t = 10\n",
        "# initial_position, initial_velocity are defined below\n",
        "# Taking matrices M and K based on Theorem 1 of paper"
      ],
      "metadata": {
        "id": "M0YVidK2TooG"
      },
      "execution_count": null,
      "outputs": []
    },
    {
      "cell_type": "code",
      "source": [
        "# As per the Thm. 2, for simplicity\n",
        "# initial relative positions of N balls\n",
        "initial_position = np.zeros(N)\n",
        "# initial_position[0] = 1\n",
        "\n",
        "# intial velocities of N balls\n",
        "initial_velocity = np.zeros(N)\n",
        "initial_velocity[0] = 1;"
      ],
      "metadata": {
        "id": "qz2R9W-8eepu"
      },
      "execution_count": null,
      "outputs": []
    },
    {
      "cell_type": "code",
      "source": [
        "# Creating Mass Matrix\n",
        "\n",
        "# defining a (random) function to get diagonal Mass Matrix elements\n",
        "def mass_func(i, d):\n",
        "  return i*i % d + 1 # as mass can't be zero here\n",
        "\n",
        "# diagonal_elements = [mass_func(i, d) for i in range(1, N + 1)]\n",
        "diagonal_elements = [1 for i in range(1, N + 1)]\n",
        "\n",
        "Mass = np.diag(diagonal_elements)\n",
        "\n",
        "M_sqrt = np.sqrt(Mass)\n",
        "M_sqrt_inv = np.linalg.pinv(M_sqrt)\n",
        "# print(Mass)\n",
        "# print(M_sqrt)\n",
        "# print(M_sqrt_inv)\n"
      ],
      "metadata": {
        "id": "7fxursW-dsSo"
      },
      "execution_count": null,
      "outputs": []
    },
    {
      "cell_type": "markdown",
      "source": [
        "Comment on time complexity: there is no meaning of taking matrix M elements using a mass_func, as we still have to iterate  $N=2^n$ times.\n",
        "\n"
      ],
      "metadata": {
        "id": "5WxPoBnh3D39"
      }
    },
    {
      "cell_type": "markdown",
      "source": [
        "Creating K, the Matrix of spring constants"
      ],
      "metadata": {
        "id": "NUsQoomUOtst"
      }
    },
    {
      "cell_type": "markdown",
      "source": [
        "Wrong creation!"
      ],
      "metadata": {
        "id": "N6r9TekPqcwH"
      }
    },
    {
      "cell_type": "code",
      "source": [
        "%%script echo Skipping\n",
        "# let's define each element of K matrix in range (0, k_max) inclusive\n",
        "# with sparsity d\n",
        "\n",
        "def create_spring_constants_matrix(N, d, k_max):\n",
        "    K = np.empty((N, N), dtype=int)\n",
        "    for i in range(N):\n",
        "        num_non_zero = random.randint(1, d)\n",
        "        indices = random.sample(range(N), num_non_zero)\n",
        "        for j in indices:\n",
        "            K[i][j] = random.randint(1, k_max+1)\n",
        "    return K"
      ],
      "metadata": {
        "id": "s1CEmIateemP"
      },
      "execution_count": null,
      "outputs": []
    },
    {
      "cell_type": "markdown",
      "source": [
        "Correct creation"
      ],
      "metadata": {
        "id": "95WSntuCPAct"
      }
    },
    {
      "cell_type": "code",
      "source": [
        "# creating K, the Matrix of spring constants\n",
        "# for simplicity, taking all the spring constants equal to 1 and assuming\n",
        "# balls are connected linearly and the extremes balls are connected to walls\n",
        "\n",
        "def create_spring_constants_matrix(N, d, k_max):\n",
        "  K = np.empty((N, N), dtype=int)\n",
        "  for i in range(0, N-1):\n",
        "    K[i][i+1] = K[i+1][i] = 1\n",
        "  K[0][0] = K[N-1][N-1] = 1\n",
        "  return K"
      ],
      "metadata": {
        "id": "dj-ajaNBqm0g"
      },
      "execution_count": null,
      "outputs": []
    },
    {
      "cell_type": "code",
      "source": [
        "K = create_spring_constants_matrix(N, d, k_max)\n",
        "# print(K)\n",
        "K_row_sum = [np.sum(row) for row in K]\n",
        "# print(K_row_sum)"
      ],
      "metadata": {
        "id": "FYZSP2eIeej7"
      },
      "execution_count": null,
      "outputs": []
    },
    {
      "cell_type": "markdown",
      "source": [
        "Creating the force matrix $F$"
      ],
      "metadata": {
        "id": "zAnuONkCPFua"
      }
    },
    {
      "cell_type": "code",
      "source": [
        "F = -K\n",
        "for i in range(N):\n",
        "  F[i][i] = K_row_sum[i]\n",
        "# print(F)"
      ],
      "metadata": {
        "id": "5L0Fa1A3eeh6"
      },
      "execution_count": null,
      "outputs": []
    },
    {
      "cell_type": "markdown",
      "source": [
        "Finding matrix $A$ which is given by\n",
        "$A = \\sqrt{M}^{-1} \\mathbf{F} \\sqrt{M}^{-1}$"
      ],
      "metadata": {
        "id": "7t9XUkgqWFd7"
      }
    },
    {
      "cell_type": "code",
      "source": [
        "# A = np.dot(np.dot(M_sqrt_inv, F), M_sqrt_inv)\n",
        "A = np.einsum('ij,jk,kl->il', M_sqrt_inv, F, M_sqrt_inv) # faster for large matrices\n",
        "# print(A)"
      ],
      "metadata": {
        "id": "vzY-0rfReef7"
      },
      "execution_count": null,
      "outputs": []
    },
    {
      "cell_type": "markdown",
      "source": [
        "From the research paper:\n",
        "\n",
        "We need to choose $\\mathbf{B}$ such that $\\vec{\\mu}(t)=\\mathbf{B}^{\\dagger} \\vec{y}(t)=$ $\\mathbf{B}^{\\dagger} \\sqrt{\\mathbf{M}} \\vec{x}(t)$, where $\\vec{\\mu}(t) \\in \\mathbb{C}^M$ (for $M=N(N+1) / 2$ ). We can express $\\vec{\\mu}(t)$ in the basis $\\{|j, k\\rangle: j \\leq k \\in[N]\\}$, which is of size $M$. Since $\\mathbf{F}$ is a graph Laplacian, we can obtain $\\mathbf{B}$ from the incidence matrix of $\\mathbf{F}$ given by\n",
        "$$\n",
        "\\sqrt{\\mathbf{M}} \\mathbf{B} |j, k\\rangle=\\left\\{\\begin{array}{ll}\n",
        "\\sqrt{\\kappa_{j j}}|j\\rangle, & \\text { if } j=k \\\\\n",
        "\\sqrt{\\kappa_{j k}}(|j\\rangle-|k\\rangle), & \\text { if } j<k\n",
        "\\end{array} .\\right.\n",
        "$$\n",
        "\n",
        "This choice satisfies $\\sqrt{\\mathbf{M}} \\mathbf{B}(\\sqrt{\\mathbf{M}} \\mathbf{B})^{\\dagger}=\\mathbf{F}$, and hence $\\mathbf{B B}^{\\dagger}=\\mathbf{A}$, because we can write $\\mathbf{F}=$ $\\sqrt{\\mathbf{M}}\\left(\\sum_{j \\leq k} \\mathbf{B}|j, k\\rangle\\langle j, k| \\mathbf{B}^{\\dagger}\\right) \\sqrt{\\mathbf{M}}$."
      ],
      "metadata": {
        "id": "VhChuyY_wJBY"
      }
    },
    {
      "cell_type": "code",
      "source": [
        "m = N*(N+1)//2"
      ],
      "metadata": {
        "id": "GHoc7dY90Pzw"
      },
      "execution_count": null,
      "outputs": []
    },
    {
      "cell_type": "markdown",
      "source": [
        "#### Skipping"
      ],
      "metadata": {
        "id": "WtMkX8ae8o2m"
      }
    },
    {
      "cell_type": "markdown",
      "source": [
        "How would be find the columns of matrix $\\sqrt{\\mathbf{M}} \\mathbf{B}$ for $k>N$ ???\n",
        "\n",
        "We don't have $K_{jk}$ elements for $k>N$ as matrix $K$ is only $N \\times N$."
      ],
      "metadata": {
        "id": "2-R0vT1MPQnV"
      }
    },
    {
      "cell_type": "code",
      "source": [
        "%%script echo Skipping: could not understand the way to write B and B_dag\n",
        "def create_matrix_B(N, m, K, M_sqrt_inv):\n",
        "    B = np.zeros((N, m), dtype=int)\n",
        "    for j in range(N):\n",
        "        for k in range(N):\n",
        "            if j == k:\n",
        "                B[j][j] = np.sqrt(K[j][j])\n",
        "            elif j < k:\n",
        "                B[j][k] = np.sqrt(K[j][k]) * (j - k)\n",
        "    # Create matrix B\n",
        "    print(\"Printing dot product of M_sqrt_B and it's conjugate \")\n",
        "    B_dagy = B.conj().T\n",
        "    print(np.dot(B, B_dagy))\n",
        "\n",
        "    B = np.dot(M_sqrt_inv, B)\n",
        "    return B"
      ],
      "metadata": {
        "id": "s37Dcpcbut7m"
      },
      "execution_count": null,
      "outputs": []
    },
    {
      "cell_type": "code",
      "source": [
        "%%script echo Skipping: could not understand the way to write B and B_dag\n",
        "print(\"F is: \\n\", F)\n",
        "B = create_matrix_B(N, m, K, M_sqrt_inv)\n",
        "B_dag = B.conj().T\n",
        "# print(B)\n",
        "# print(B_dag)\n",
        "print(np.dot(B, B_dag))\n",
        "print(A)\n"
      ],
      "metadata": {
        "id": "3tyvAafVyJX3"
      },
      "execution_count": null,
      "outputs": []
    },
    {
      "cell_type": "markdown",
      "source": [
        "If we have $B$ and $B^\\dagger$ matrix, we can find matrix $H$ as following."
      ],
      "metadata": {
        "id": "1bj4VLtIQG7o"
      }
    },
    {
      "cell_type": "code",
      "source": [
        "%%script echo Skipping: could not understand the way to write B and B_dag\n",
        "H = np.zeros((N+m, N+m), dtype=B.dtype)\n",
        "# Fill in the blocks\n",
        "H[:N, N:] = -B\n",
        "H[N:, :N] = -B_dag\n",
        "print(H)"
      ],
      "metadata": {
        "id": "loyvFDs6Vz_X"
      },
      "execution_count": null,
      "outputs": []
    },
    {
      "cell_type": "markdown",
      "source": [
        "#### Continue"
      ],
      "metadata": {
        "id": "7AQu93mF8z8g"
      }
    },
    {
      "cell_type": "markdown",
      "source": [
        "The matrix $H$ is defined as\n",
        "\n",
        "$\n",
        "\\mathbf{H}:=-\\left(\\begin{array}{cc}\n",
        "\\mathbf{0} & \\mathbf{B} \\\\\n",
        "\\mathbf{B}^{\\dagger} & \\mathbf{0}\n",
        "\\end{array}\\right)\n",
        "$\n",
        "\n",
        "For $H$ to be Hermitian,\n",
        "\n",
        "$ H = H^\\dagger \\iff \\begin{bmatrix} 0 & B^\\dagger \\\\ B & 0 \\end{bmatrix} = \\begin{bmatrix} 0 & B \\\\ B^\\dagger & 0 \\end{bmatrix} $\n"
      ],
      "metadata": {
        "id": "r_GK6lPp7Tdz"
      }
    },
    {
      "cell_type": "markdown",
      "source": [
        "(The dimension of each $\\mathbf{0}$ is clear from context.) Here $\\mathbf{H}$ acts on the space $\\mathbb{C}^{N+M}$ and functions as the \"square root\" of $\\mathbf{A}$, since the first block of $\\mathbf{H}^2$ is $\\mathbf{A}$ or\n",
        "\n",
        "$ H^2 = A \\left[ \\begin{array}{cc} I & 0 \\\\ 0 & I \\end{array} \\right]$"
      ],
      "metadata": {
        "id": "lWP3dQ1WjDDY"
      }
    },
    {
      "cell_type": "markdown",
      "source": [
        "### Creating a hermitian matrix $H$ randomly"
      ],
      "metadata": {
        "id": "VeUf14UXcvQq"
      }
    },
    {
      "cell_type": "code",
      "source": [
        "def create_matrix_H(N, m, a, b):\n",
        "  H = np.zeros((N+m, N+m), dtype=complex)\n",
        "  for i in  range(N, m+N):\n",
        "    for j in range(0, N):\n",
        "      H[i][j] = H[j][i] = random.randint(a, b)\n",
        "  return H"
      ],
      "metadata": {
        "id": "pm_3BAOC7fWy"
      },
      "execution_count": null,
      "outputs": []
    },
    {
      "cell_type": "code",
      "source": [
        "# let's take values of H in range [a, b], random range\n",
        "a = 0\n",
        "b = 3\n",
        "H = create_matrix_H(N, m, a, b)\n",
        "H_dag = np.conj(H.T)\n",
        "\n",
        "print(H)\n",
        "# print(H_dag)"
      ],
      "metadata": {
        "id": "S9CCCcLIeFlM"
      },
      "execution_count": null,
      "outputs": []
    },
    {
      "cell_type": "code",
      "source": [
        "# Checking if H is hermitian (:\n",
        "np.allclose(H, H_dag)"
      ],
      "metadata": {
        "id": "DjIlL5yTVz73"
      },
      "execution_count": null,
      "outputs": []
    },
    {
      "cell_type": "markdown",
      "source": [
        "Extracting $B$ and $B^\\dagger$ from $H$"
      ],
      "metadata": {
        "id": "t0D1__zVe_4N"
      }
    },
    {
      "cell_type": "code",
      "source": [
        "def create_matrix_B_dag(N, m):\n",
        "  B_dag = np.empty((m, N), dtype=complex)\n",
        "  for i in range(N, m+N):\n",
        "    for j in range(0, N):\n",
        "      B_dag[i-N][j] = H[i][j]\n",
        "  return B_dag\n",
        "\n",
        "B_dag = create_matrix_B_dag(N, m)\n",
        "# print(B_dag)"
      ],
      "metadata": {
        "id": "KbRBuD3fe_JV"
      },
      "execution_count": null,
      "outputs": []
    },
    {
      "cell_type": "markdown",
      "source": [
        "Making the matrix $H$ equavalent to matrix $M$ of qpe-for-matrix notebook from classiq tutorials."
      ],
      "metadata": {
        "id": "_WJaiF8UoMn7"
      }
    },
    {
      "cell_type": "code",
      "source": [
        "const = -t/(2*np.pi)\n",
        "H = const * H\n",
        "# print(H)\n",
        "M = np.matrix(H)"
      ],
      "metadata": {
        "id": "gy4qxL5_nYg0"
      },
      "execution_count": null,
      "outputs": []
    },
    {
      "cell_type": "code",
      "source": [
        "# eigval_H, eigvec_H = np.linalg.eig(H)\n",
        "# print(eigval_H)"
      ],
      "metadata": {
        "id": "Lw94UcmumHPq"
      },
      "execution_count": null,
      "outputs": []
    },
    {
      "cell_type": "markdown",
      "source": [
        "\n",
        "Schrödinger's equation induced by $\\mathbf{H}$ is\n",
        "$$\n",
        "|\\dot{\\psi}(t)\\rangle=-i \\mathbf{H}|\\psi(t)\\rangle,\n",
        "$$\n",
        "where $|\\psi(t)\\rangle \\in \\mathbb{C}^{N+M}$ is the state of a quantum system at time $t$.\n",
        "\n",
        "It can be verified by direct substitution that\n",
        "$$\n",
        "|\\psi(t)\\rangle \\propto\\left(\\begin{array}{c}\n",
        "\\dot{\\vec{y}}(t) \\\\\n",
        "i \\mathbf{B}^{\\dagger} \\vec{y}(t)\n",
        "\\end{array}\\right) .\n",
        "$$\n",
        "is a valid solution to Eq. (13) in the paper. Hence we have\n",
        "$$\n",
        "\\left(\\begin{array}{c}\n",
        "\\dot{\\vec{y}}(t) \\\\\n",
        "i \\mathbf{B}^{\\dagger} \\vec{y}(t)\n",
        "\\end{array}\\right)=e^{-i t \\mathbf{H}}\\left(\\begin{array}{c}\n",
        "\\dot{\\vec{y}}(0) \\\\\n",
        "i \\mathbf{B}^{\\dagger} \\vec{y}(0)\n",
        "\\end{array}\\right),\n",
        "$$\n",
        "which lets us compute $\\dot{\\vec{y}}(t)$ and $\\mathbf{B}^{\\dagger} \\vec{y}(t)$ using Hamiltonian simulation."
      ],
      "metadata": {
        "id": "o3UHe3Bg8OzD"
      }
    },
    {
      "cell_type": "markdown",
      "metadata": {
        "id": "3a6edbc6-1100-4824-a15e-c985728f544b"
      },
      "source": [
        "### Set the Initial Vector\n"
      ]
    },
    {
      "cell_type": "code",
      "source": [
        "pot_y = np.dot(M_sqrt, initial_position)\n",
        "kin_y = np.dot(M_sqrt, initial_velocity)\n",
        "B_dag_Y = np.dot(B_dag, pot_y)\n",
        "int_vec = np.hstack((kin_y, B_dag_Y))\n",
        "print(\"Initial state is\", int_vec)"
      ],
      "metadata": {
        "id": "Qz1LsUkvmHMA"
      },
      "execution_count": null,
      "outputs": []
    },
    {
      "cell_type": "code",
      "source": [],
      "metadata": {
        "id": "9izddy_vmHFm"
      },
      "execution_count": null,
      "outputs": []
    },
    {
      "cell_type": "markdown",
      "source": [
        "## From QPE FOR MATRIX on Classiq Tutorials"
      ],
      "metadata": {
        "id": "HMKhLAIrRAgs"
      }
    },
    {
      "cell_type": "markdown",
      "metadata": {
        "id": "7785e9ca-3532-485c-80f8-e405a4a419ab"
      },
      "source": [
        "### 2.1 Classical Functions"
      ]
    },
    {
      "cell_type": "markdown",
      "metadata": {
        "id": "c6876d85-70ca-4be7-bf2e-6a78235a77e5"
      },
      "source": [
        "#### 2.1.1 Pauli Decomposition\n",
        "\n",
        "To translate the matrix into quantum circuit language, write the matrix in the form of a list of strings of composite Pauli operators."
      ]
    },
    {
      "cell_type": "code",
      "execution_count": null,
      "metadata": {
        "execution": {
          "iopub.execute_input": "2024-03-12T12:32:56.675646Z",
          "iopub.status.busy": "2024-03-12T12:32:56.674439Z",
          "iopub.status.idle": "2024-03-12T12:32:56.685282Z",
          "shell.execute_reply": "2024-03-12T12:32:56.684634Z"
        },
        "tags": [],
        "id": "3296cfde-4155-4d76-9ba6-16aa24677a61"
      },
      "outputs": [],
      "source": [
        "Paulidict = {\n",
        "    \"I\": np.array([[1, 0], [0, 1]], dtype=np.complex128),\n",
        "    \"Z\": np.array([[1, 0], [0, -1]], dtype=np.complex128),\n",
        "    \"X\": np.array([[0, 1], [1, 0]], dtype=np.complex128),\n",
        "    \"Y\": np.array([[0, -1j], [1j, 0]], dtype=np.complex128),\n",
        "}\n",
        "\n",
        "\n",
        "# generate all combinations of Pauli strings of size n\n",
        "def generate_all_pauli_strings(seq, n):\n",
        "    for s in product(seq, repeat=n):\n",
        "        yield \"\".join(s)\n",
        "\n",
        "\n",
        "# convert a Paulistring of size n to 2**n X 2**n matrix\n",
        "def pauli_string_2mat(seq):\n",
        "    myPmat = Paulidict[seq[0]]\n",
        "    for p in seq[1:]:\n",
        "        myPmat = kron(myPmat, Paulidict[p])\n",
        "    return myPmat\n",
        "\n",
        "\n",
        "# Hilbert-Schmidt-Product of two matrices M1, M2\n",
        "def hilbert_schmidt(M1, M2):\n",
        "  M1 = np.matrix(M1)\n",
        "  M2 = np.matrix(M2)\n",
        "  return (np.dot(M1.conj().T, M2)).trace()\n",
        "\n",
        "\n",
        "# naive decomposition, running over all HS products for all Pauli strings\n",
        "def lcu_naive(H, N, m):\n",
        "    n = int(np.log2(N+m))\n",
        "    myPauliList = list(generate_all_pauli_strings(\"IZXY\", n))\n",
        "    print(myPauliList)\n",
        "    print(pauli_string_2mat(myPauliList[1]))\n",
        "    mylist = []\n",
        "\n",
        "    for pstr in myPauliList:\n",
        "        co = (1 / 2**n) * hilbert_schmidt(pauli_string_2mat(pstr), H)\n",
        "        # --> trace of (M1^dag @ M2) divided by 2**n\n",
        "        if co != 0:\n",
        "            mylist = mylist + [(pstr, co)]\n",
        "\n",
        "    return mylist"
      ]
    },
    {
      "cell_type": "markdown",
      "metadata": {
        "id": "9303ffc8-9579-49e7-a498-7899d2bf1624"
      },
      "source": [
        "#### 2.1.2 Parser to the `PauliTerm` struct\n",
        "\n",
        "A Hamiltonian is defined by a list of PauliTerm structs. Define a function that transforms between the Pauli list representation to this struct presentation."
      ]
    },
    {
      "cell_type": "code",
      "execution_count": null,
      "metadata": {
        "execution": {
          "iopub.execute_input": "2024-03-12T12:32:56.691210Z",
          "iopub.status.busy": "2024-03-12T12:32:56.688928Z",
          "iopub.status.idle": "2024-03-12T12:33:00.081165Z",
          "shell.execute_reply": "2024-03-12T12:33:00.080429Z"
        },
        "id": "90918038-cd4c-47c8-b8e5-b026315e5874"
      },
      "outputs": [],
      "source": [
        "from classiq import Pauli, PauliTerm\n",
        "\n",
        "my_list = {\"I\": Pauli.I, \"X\": Pauli.X, \"Y\": Pauli.Y, \"Z\": Pauli.Z}\n",
        "\n",
        "\n",
        "def pauli_str_to_enums(pauli):\n",
        "    return [my_list[s] for s in pauli]\n",
        "\n",
        "# ye wala function sidha suzuki trotter ko denge\n",
        "def pauli_operator_to_hamiltonian(pauli_list): # pauli_list => pauli_ops --> pairs of pauli seq and coefficients\n",
        "    return [\n",
        "        PauliTerm(\n",
        "            pauli=pauli_str_to_enums(pauli), coefficient=cast(complex, coeff).real\n",
        "        )\n",
        "        for pauli, coeff in pauli_list\n",
        "    ]"
      ]
    },
    {
      "cell_type": "markdown",
      "metadata": {
        "id": "1dc21993-ef3e-48af-b831-ac8fd101067f"
      },
      "source": [
        "#### 2.1.3 Matrix Rescaling"
      ]
    },
    {
      "cell_type": "markdown",
      "metadata": {
        "id": "8f1896e5-fda6-48e3-b12c-259670c5b8d8"
      },
      "source": [
        "As QPE obtains a phase in the form $e^{2\\pi i\\theta}$, there is meaning only for $\\theta \\in [0,1)$. However, the matrix M can have any eigenvalue. To fix this discrepancy, the values of the matrix stretch to be rescaled. If\n",
        "$\\theta \\in [\\lambda_{min}, \\lambda_{max}]$ we can use a normalization function to map those values into $[0, 1-1/{2^m}]$, where $m$\n",
        "is the size of the QPE register.\n",
        "\n",
        "Perform the normalization procedure by:\n"
      ]
    },
    {
      "cell_type": "code",
      "execution_count": null,
      "metadata": {
        "execution": {
          "iopub.execute_input": "2024-03-12T12:33:00.087529Z",
          "iopub.status.busy": "2024-03-12T12:33:00.086044Z",
          "iopub.status.idle": "2024-03-12T12:33:00.092148Z",
          "shell.execute_reply": "2024-03-12T12:33:00.091415Z"
        },
        "id": "c4a4efd0-06e2-461f-8a37-14aeaa4cf1fb"
      },
      "outputs": [],
      "source": [
        "def normalization_params(pauli_list):\n",
        "    return len(pauli_list[0][0]) * sum(\n",
        "        [abs(pauli_list[k][1]) for k in range(len(pauli_list))]\n",
        "    )"
      ]
    },
    {
      "cell_type": "markdown",
      "metadata": {
        "id": "3d6c378f-ae23-4baf-999d-e9943a7e49b3"
      },
      "source": [
        "b. Defining the function `normalize_hamiltonian` that shifts the matrix by adding $\\lambda*I^n$ to the Pauli list. (The evaluated span is thus $\\theta\\in[0, 2*\\lambda]$) and normalizes it by multiplying all the Pauli coefficients by $(1-1/2^n)/(2*\\lambda)$ (the evaluated span is then $\\theta\\in [0, 1-1/2^n]$, as required.)"
      ]
    },
    {
      "cell_type": "code",
      "execution_count": null,
      "metadata": {
        "execution": {
          "iopub.execute_input": "2024-03-12T12:33:00.097277Z",
          "iopub.status.busy": "2024-03-12T12:33:00.095951Z",
          "iopub.status.idle": "2024-03-12T12:33:00.103416Z",
          "shell.execute_reply": "2024-03-12T12:33:00.102695Z"
        },
        "id": "15ca935c-04a3-40c6-9846-f1b822bc9832"
      },
      "outputs": [],
      "source": [
        "# normalization_coeff = normalization_params(pauli_ops) => lambda\n",
        "# k = n_qpe --> defined under precesion\n",
        "def normalize_hamiltonian(pauli_list, normalization_coeff, k): # pauli_list here is un-normalized\n",
        "    list_size = len(pauli_list)\n",
        "    num_qubits = len(pauli_list[0][0])\n",
        "    normalization = (1 - 1 / (2**k)) / (2 * normalization_coeff)\n",
        "    # Normalizing the pauli list\n",
        "    normalized_list = [\n",
        "        (pauli_list[k][0], pauli_list[k][1] * normalization) for k in range(list_size)\n",
        "    ]\n",
        "    # checking if \"II\" is in pauli_list or not, if yes then normalizing it in following way\n",
        "    if \"I\" * num_qubits in [pauli_list[k][0] for k in range(list_size)]:\n",
        "        id_index = [y[0] for y in pauli_list].index(\"I\" * num_qubits)\n",
        "        normalized_list[id_index] = (\n",
        "            \"I\" * num_qubits,\n",
        "            (pauli_list[id_index][1] + normalization_coeff) * normalization,\n",
        "        )\n",
        "    else:\n",
        "        normalized_list.append((\"I\" * num_qubits, normalization_coeff * normalization))\n",
        "\n",
        "    return normalized_list"
      ]
    },
    {
      "cell_type": "markdown",
      "metadata": {
        "id": "2c2cf50a-ef8a-41d2-8684-61c242734ed4"
      },
      "source": [
        "#### 2.1.3 QPE Precision Estimator"
      ]
    },
    {
      "cell_type": "markdown",
      "metadata": {
        "id": "c2e8d8f4-4ff7-4444-a9dc-1abb7f36e653"
      },
      "source": [
        "For QPE algorithms, the precision is set by phase register size $m$, such that the resolution is $1/{2^m}$. If the matrix needs to be normalized, the resolution will be distorted. In the case of normalization, the span of results for the QPE stretches between the lowest and highest possible phase, thus the resolution is mapped to $normalization-coefficient/{2^m} ~\\sim 1/{((\\lambda_{max}-\\lambda_{min})*2^m)}$."
      ]
    },
    {
      "cell_type": "code",
      "execution_count": null,
      "metadata": {
        "execution": {
          "iopub.execute_input": "2024-03-12T12:33:00.108544Z",
          "iopub.status.busy": "2024-03-12T12:33:00.107079Z",
          "iopub.status.idle": "2024-03-12T12:33:00.112855Z",
          "shell.execute_reply": "2024-03-12T12:33:00.111945Z"
        },
        "id": "09d5727b-25f3-423b-bfe4-03443d596877"
      },
      "outputs": [],
      "source": [
        "# if get_recommended_qpe_size = True then this will run otherwise n_qpe\n",
        "# desired_resolution = 0.02 --> unprecision(+-) of phase\n",
        "def get_qpe_precision(pauli_list, desired_resolution):\n",
        "    nqpe = math.log2(2 * normalization_params(pauli_list) / desired_resolution)\n",
        "    return math.ceil(nqpe)"
      ]
    },
    {
      "cell_type": "code",
      "source": [],
      "metadata": {
        "id": "cYlPGL9AVz1e"
      },
      "execution_count": null,
      "outputs": []
    },
    {
      "cell_type": "markdown",
      "metadata": {
        "id": "dcb881a7-61ef-4e1d-b971-3fda5b1b0a78"
      },
      "source": [
        "## 2.2 Quantum Functions"
      ]
    },
    {
      "cell_type": "markdown",
      "metadata": {
        "id": "db33c350-dfc6-42de-809a-9825fc055d7c"
      },
      "source": [
        "### 2.2.1 A Flexible QPE\n",
        "\n",
        "Define a flexible QPE function, which allows you to prescribe the \"telescopic\" expansion of the powered unitary via the `unitary_with_power` \"QCallable\" See the High Level Modeling Flexible QPE tutorial for more details."
      ]
    },
    {
      "cell_type": "code",
      "execution_count": null,
      "metadata": {
        "execution": {
          "iopub.execute_input": "2024-03-12T12:33:00.117177Z",
          "iopub.status.busy": "2024-03-12T12:33:00.116115Z",
          "iopub.status.idle": "2024-03-12T12:33:00.123051Z",
          "shell.execute_reply": "2024-03-12T12:33:00.122279Z"
        },
        "id": "ba7a59fa-689c-4c95-9a4e-24064a46f98a"
      },
      "outputs": [],
      "source": [
        "from classiq import (\n",
        "    H,\n",
        "    Output,\n",
        "    QArray,\n",
        "    QBit,\n",
        "    QCallable,\n",
        "    QParam,\n",
        "    apply_to_all,\n",
        "    bind,\n",
        "    control,\n",
        "    invert,\n",
        "    qft,\n",
        "    qfunc,\n",
        "    repeat,\n",
        ")\n",
        "\n",
        "\n",
        "@qfunc\n",
        "# unitary_with_power --> either suzuki_troter1_with_power_logic or unitary_with_power_logic\n",
        "def my_qpe_flexible(\n",
        "    unitary_with_power: QCallable[QParam[int], QArray[QBit]],\n",
        "    precision: QParam[int], # precision is n_qpe here\n",
        "    state: QArray[QBit],\n",
        "    phase: Output[QArray[QBit, \"precision\"]],\n",
        "    # precisioin --> length of qarray of target qubits, more the precision, more the qubits required\n",
        ") -> None:\n",
        "    allocate(precision, phase)\n",
        "    apply_to_all(H, phase)\n",
        "\n",
        "    repeat(\n",
        "        count=precision,\n",
        "        iteration=lambda index: control(\n",
        "            operand=lambda: unitary_with_power(2**index, state),\n",
        "            ctrl=phase[index],\n",
        "        ),\n",
        "        # index --> this will run 'precision' times, mtlb index=range(0, precision)\n",
        "    )\n",
        "\n",
        "    invert(lambda: qft(phase))"
      ]
    },
    {
      "cell_type": "markdown",
      "metadata": {
        "id": "ad8f766e-91ed-44c5-9c4e-3f909358cdb1"
      },
      "source": [
        "### 2.2.2 A First Order Suzuki Trotter with power-logic\n",
        "The first-order Suzuki-Trotter decomposition approximates the time evolution operator up to the first order of accuracy in small time step size. It's typically expressed as:\n",
        "\n",
        "$U(\\delta t) \\approx e^{-iH_1\\delta t/2}e^{-iH_2\\delta t/2}\\ldots$\n",
        "\n",
        "$H_1, H_2, $ etc., are components of the full Hamiltonian, and $δt$ is the time step."
      ]
    },
    {
      "cell_type": "markdown",
      "source": [
        "From Classiq documentations:\n",
        "\n",
        "We write the Hamiltonian as a sum of Pauli strings $H=\\sum_{i=0}^{L-1} a^{(k)} P^{(k)}$, where $a^{(k)}$ are complex coefficients, and each of $P^{(k)}$ is a Pauli string of the form $s_0 \\otimes s_1 \\otimes \\cdots \\otimes s_L$, with $s_i \\in\\{I, X, Y, Z\\}$. Approximating Hamiltonian simulation with order 1 Trotter Suzuki refers to:\n",
        "$$\n",
        "e^{2 \\pi i H} \\approx\\left(\\Pi_{i=0}^{L-1} e^{\\frac{a^{(k)}}{r} P^{(k)}}\\right)^r\n",
        "$$\n",
        "where $r$ is called the number of repetitions."
      ],
      "metadata": {
        "id": "EafU4IICuNF9"
      }
    },
    {
      "cell_type": "markdown",
      "source": [
        "Wrapping the Trotter-Suzuki function of order 1 with a \"power-logic\" for the repetition as a function of its power."
      ],
      "metadata": {
        "id": "ZwVNz-RavKbV"
      }
    },
    {
      "cell_type": "code",
      "execution_count": null,
      "metadata": {
        "execution": {
          "iopub.execute_input": "2024-03-12T12:33:00.127824Z",
          "iopub.status.busy": "2024-03-12T12:33:00.126642Z",
          "iopub.status.idle": "2024-03-12T12:33:00.133159Z",
          "shell.execute_reply": "2024-03-12T12:33:00.132481Z"
        },
        "id": "920ac18c-591a-4ec2-b178-451f173dd5da"
      },
      "outputs": [],
      "source": [
        "from classiq import suzuki_trotter\n",
        "from classiq.qmod.symbolic import ceiling, log\n",
        "\n",
        "\n",
        "@qfunc\n",
        "def suzuki_trotter1_with_power_logic(\n",
        "    hamiltonian: QParam[List[PauliTerm]],\n",
        "    pw: QParam[int],\n",
        "    r0: QParam[int],\n",
        "    reps_scaling_factor: QParam[float],\n",
        "    evolution_coefficient: QParam[float],\n",
        "    target: QArray[QBit],\n",
        ") -> None:\n",
        "    suzuki_trotter(\n",
        "        hamiltonian,\n",
        "        evolution_coefficient=evolution_coefficient * pw,\n",
        "        order=1,\n",
        "        repetitions=r0 * ceiling(reps_scaling_factor ** (log(pw, 2))),\n",
        "        qbv=target,\n",
        "    )"
      ]
    },
    {
      "cell_type": "markdown",
      "metadata": {
        "id": "13398c9e-a74d-4819-9205-158f00498e17"
      },
      "source": [
        "### 2.2.3 A Unitary with power-logic\n",
        "\n",
        "As an alternative to the Trotter-Suzuki formula, you can work with an exact unitary decomposition. In this case, the power-logic is naive:"
      ]
    },
    {
      "cell_type": "code",
      "execution_count": null,
      "metadata": {
        "execution": {
          "iopub.execute_input": "2024-03-12T12:33:00.137734Z",
          "iopub.status.busy": "2024-03-12T12:33:00.136598Z",
          "iopub.status.idle": "2024-03-12T12:33:00.142533Z",
          "shell.execute_reply": "2024-03-12T12:33:00.141853Z"
        },
        "id": "1496c3fb-d68d-4466-bfe1-828903f44218"
      },
      "outputs": [],
      "source": [
        "from classiq import power, unitary\n",
        "\n",
        "\n",
        "@qfunc\n",
        "def unitary_with_power_logic(\n",
        "    pw: QParam[int], matrix: QParam[List[List[float]]], target: QArray[QBit]\n",
        ") -> None:\n",
        "    power(pw, lambda: unitary(elements=matrix, target=target))"
      ]
    },
    {
      "cell_type": "markdown",
      "metadata": {
        "id": "ffb62b82-d3ec-4e63-a558-b57af0c2e0b4"
      },
      "source": [
        "## 3. Preparing the Matrix for QPE"
      ]
    },
    {
      "cell_type": "markdown",
      "source": [
        "## Can't go forward this\n",
        "We need to satisfy the following relation, which is not possible for atleast small integers.\n",
        "\n",
        "$ N + N(N+1)/2 = N(N+3)/2 = 2^x$\n",
        "\n",
        "$ 2^n (2^n +3)/2 = 2^x $"
      ],
      "metadata": {
        "id": "vrH2nqofMZ5u"
      }
    },
    {
      "cell_type": "markdown",
      "source": [
        "This relation is needed so that the matrix returned by `hilbert_schmidt` function in `lcu_naive` function has same dimension as matrix $H or M$\n"
      ],
      "metadata": {
        "id": "2CsyNt8PM_Aa"
      }
    },
    {
      "cell_type": "code",
      "execution_count": null,
      "metadata": {
        "execution": {
          "iopub.execute_input": "2024-03-12T12:33:00.147223Z",
          "iopub.status.busy": "2024-03-12T12:33:00.145985Z",
          "iopub.status.idle": "2024-03-12T12:33:00.153943Z",
          "shell.execute_reply": "2024-03-12T12:33:00.153347Z"
        },
        "tags": [],
        "id": "9c95c12b-5783-456f-92ca-937df78b3259"
      },
      "outputs": [],
      "source": [
        "pauli_ops = lcu_naive(M, N, m)\n",
        "print(pauli_ops)"
      ]
    },
    {
      "cell_type": "code",
      "source": [],
      "metadata": {
        "id": "uuTLfAntNrCx"
      },
      "execution_count": null,
      "outputs": []
    },
    {
      "cell_type": "code",
      "source": [],
      "metadata": {
        "id": "WfcDHH6iNq_7"
      },
      "execution_count": null,
      "outputs": []
    },
    {
      "cell_type": "code",
      "source": [],
      "metadata": {
        "id": "8GPSLDqvNq-L"
      },
      "execution_count": null,
      "outputs": []
    },
    {
      "cell_type": "code",
      "source": [],
      "metadata": {
        "id": "eeojtBE7Nq8P"
      },
      "execution_count": null,
      "outputs": []
    },
    {
      "cell_type": "code",
      "execution_count": null,
      "metadata": {
        "execution": {
          "iopub.execute_input": "2024-03-12T12:33:00.158489Z",
          "iopub.status.busy": "2024-03-12T12:33:00.157367Z",
          "iopub.status.idle": "2024-03-12T12:33:00.163837Z",
          "shell.execute_reply": "2024-03-12T12:33:00.163187Z"
        },
        "tags": [],
        "id": "1cc56c7a-8f2e-4f89-bc0c-7d768b0388d4"
      },
      "outputs": [],
      "source": [
        "N_qubits = len(pauli_ops[0][0])\n",
        "print(\"number of qubits: \", N_qubits)"
      ]
    },
    {
      "cell_type": "markdown",
      "metadata": {
        "id": "c69c18c8-566e-46e9-8818-b3baf69ff9eb"
      },
      "source": [
        "### 3.1 Choose the Algorithm's Precision\n",
        "\n",
        "Choose the precision using the `n_qpe` parameter or set your desired resolution. If you choose the resolution and set the parameter `get_recommended_qpe_size` parameter to True, the number of qubits is calculated for you accordingly."
      ]
    },
    {
      "cell_type": "code",
      "execution_count": null,
      "metadata": {
        "execution": {
          "iopub.execute_input": "2024-03-12T12:33:00.168461Z",
          "iopub.status.busy": "2024-03-12T12:33:00.167206Z",
          "iopub.status.idle": "2024-03-12T12:33:00.174487Z",
          "shell.execute_reply": "2024-03-12T12:33:00.173865Z"
        },
        "tags": [],
        "id": "21c12d6d-399b-4ffe-9150-82adff52dd61"
      },
      "outputs": [],
      "source": [
        "n_qpe = 8\n",
        "\n",
        "# recommended QPE_SIZE:\n",
        "get_recommended_qpe_size = True\n",
        "\n",
        "desired_resolution = 0.01\n",
        "\n",
        "\n",
        "if get_recommended_qpe_size:\n",
        "    n_qpe = get_qpe_precision(pauli_ops, desired_resolution)\n",
        "\n",
        "print(\"number of qubits for QPE is\", n_qpe)"
      ]
    },
    {
      "cell_type": "markdown",
      "metadata": {
        "id": "fa3d1079-c12b-48db-8935-1ea059fdbce9"
      },
      "source": [
        "### 3.2 Normalize the Matrix\n",
        "\n",
        "Transform the matrix to ensure its eigenvalues are between $0$ to $1-(1/2^m)$. The QPE procedure is performed on the new normalized matrix. After the phases are obtained, gather the original phases of the pre-normalized matrix by performing opposite steps to this normalization procedure.\n",
        "\n",
        "* If the matrix eigenvalues are naturally between the values $0$ to $1-(1/2^n)$, you may not want to normalize them as that  may enlarge the span, thus lowering the resolution of the algorithm. In this case, skip those lines or change the value of `normalize` to False."
      ]
    },
    {
      "cell_type": "code",
      "execution_count": null,
      "metadata": {
        "execution": {
          "iopub.execute_input": "2024-03-12T12:33:00.178909Z",
          "iopub.status.busy": "2024-03-12T12:33:00.177773Z",
          "iopub.status.idle": "2024-03-12T12:33:00.185609Z",
          "shell.execute_reply": "2024-03-12T12:33:00.185009Z"
        },
        "tags": [],
        "id": "5e986c5a-1aae-4d97-be9c-693d7d8c2ae0"
      },
      "outputs": [],
      "source": [
        "# normalizing the operator\n",
        "## create a matrix such that its normalized version has eigenvalues of [0,1/2^k] where k is the resolution of the QPE\n",
        "normalize = True\n",
        "if normalize:\n",
        "    normalization_coeff = normalization_params(pauli_ops)\n",
        "    new_pauli_list = normalize_hamiltonian(pauli_ops, normalization_coeff, n_qpe)\n",
        "    print(new_pauli_list)\n",
        "\n",
        "    size = math.sqrt(M.size)\n",
        "    I = np.eye(int(size))\n",
        "\n",
        "    Mnew = (\n",
        "        (M + normalization_coeff * I) * (1 - 1 / (2**n_qpe)) / (2 * normalization_coeff)\n",
        "    )\n",
        "\n",
        "else:\n",
        "    Mnew = M"
      ]
    },
    {
      "cell_type": "markdown",
      "metadata": {
        "id": "f26c0aa2-2866-4f26-9d45-919e007c1b27"
      },
      "source": [
        "## 4. Building the Quantum Model\n",
        "\n",
        "Create a quantum model of the QPE algorithm using the Classiq platform with your desired constraints and preferences.\n",
        "\n",
        "There are generally two methods for inserting the matrix into the QFT: unitary implementation, which is exact but long; and exponentiation, which is approximated but shorter in depth. Choose the parameter `IS_EXACT` to indicate the chosen method."
      ]
    },
    {
      "cell_type": "code",
      "execution_count": null,
      "metadata": {
        "execution": {
          "iopub.execute_input": "2024-03-12T12:33:00.190515Z",
          "iopub.status.busy": "2024-03-12T12:33:00.189184Z",
          "iopub.status.idle": "2024-03-12T12:33:00.302559Z",
          "shell.execute_reply": "2024-03-12T12:33:00.276133Z"
        },
        "id": "67d1f58d-bb01-4041-bbf4-fdc52f30cf7f"
      },
      "outputs": [],
      "source": [
        "import scipy\n",
        "\n",
        "from classiq import Output, QNum, allocate, create_model, if_, prepare_amplitudes\n",
        "\n",
        "IS_EXACT = True\n",
        "\n",
        "my_amp = (\n",
        "    int_vec / np.linalg.norm(int_vec)\n",
        ").tolist()  # amplitude is given by the eignevector\n",
        "\n",
        "\n",
        "@qfunc\n",
        "def main(phase_result: Output[QNum[n_qpe, False, n_qpe]]) -> None:\n",
        "    state = QArray(\"state\")\n",
        "    prepare_amplitudes(my_amp, 0.0, state)\n",
        "    phase_array = QArray(\"phase_array\")\n",
        "    my_qpe_flexible(\n",
        "        unitary_with_power=lambda pw, target: if_(\n",
        "            condition=IS_EXACT,\n",
        "            then=lambda: unitary_with_power_logic(\n",
        "                matrix=scipy.linalg.expm(1j * 2 * np.pi * Mnew).tolist(),\n",
        "                pw=pw,\n",
        "                target=target,\n",
        "            ),\n",
        "            else_=lambda: suzuki_trotter1_with_power_logic(\n",
        "                hamiltonian=pauli_operator_to_hamiltonian(pauli_ops),\n",
        "                pw=pw,\n",
        "                r0=2,\n",
        "                reps_scaling_factor=1.8,\n",
        "                evolution_coefficient=-2 * np.pi,\n",
        "                target=target,\n",
        "            ),\n",
        "        ),\n",
        "        precision=n_qpe,\n",
        "        state=state,\n",
        "        phase=phase_array,\n",
        "    )\n",
        "    bind(phase_array, phase_result)\n",
        "\n",
        "\n",
        "qmod = create_model(main)"
      ]
    },
    {
      "cell_type": "markdown",
      "metadata": {
        "id": "bca846b9-b3c8-42d1-b3a8-5cb0c3f3b074"
      },
      "source": [
        "Set execution preferences:"
      ]
    },
    {
      "cell_type": "code",
      "execution_count": null,
      "metadata": {
        "execution": {
          "iopub.execute_input": "2024-03-12T12:33:00.306968Z",
          "iopub.status.busy": "2024-03-12T12:33:00.306602Z",
          "iopub.status.idle": "2024-03-12T12:33:00.353675Z",
          "shell.execute_reply": "2024-03-12T12:33:00.352863Z"
        },
        "id": "c8b701e3-1393-427f-b705-662fcfaf8728"
      },
      "outputs": [],
      "source": [
        "from classiq import set_execution_preferences\n",
        "from classiq.execution import ExecutionPreferences\n",
        "\n",
        "num_shots = 1000\n",
        "qmod = set_execution_preferences(qmod, ExecutionPreferences(num_shots=num_shots))"
      ]
    },
    {
      "cell_type": "code",
      "execution_count": null,
      "metadata": {
        "execution": {
          "iopub.execute_input": "2024-03-12T12:33:00.357575Z",
          "iopub.status.busy": "2024-03-12T12:33:00.357097Z",
          "iopub.status.idle": "2024-03-12T12:33:00.406759Z",
          "shell.execute_reply": "2024-03-12T12:33:00.405883Z"
        },
        "id": "ca339f0c-4ffe-4130-8541-5621325e0c84"
      },
      "outputs": [],
      "source": [
        "from classiq import write_qmod\n",
        "\n",
        "write_qmod(qmod, \"qpe_for_matrix\", decimal_precision=15)"
      ]
    },
    {
      "cell_type": "code",
      "execution_count": null,
      "metadata": {
        "execution": {
          "iopub.execute_input": "2024-03-12T12:33:00.412575Z",
          "iopub.status.busy": "2024-03-12T12:33:00.410966Z",
          "iopub.status.idle": "2024-03-12T12:33:12.476630Z",
          "shell.execute_reply": "2024-03-12T12:33:12.475842Z"
        },
        "id": "0ccdea1b-c255-42ab-83f2-9e36b561f94e"
      },
      "outputs": [],
      "source": [
        "from classiq import show, synthesize\n",
        "\n",
        "qprog = synthesize(qmod)\n",
        "show(qprog)"
      ]
    }
  ]
}